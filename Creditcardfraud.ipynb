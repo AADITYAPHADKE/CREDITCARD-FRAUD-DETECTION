{
  "nbformat": 4,
  "nbformat_minor": 0,
  "metadata": {
    "colab": {
      "private_outputs": true,
      "provenance": []
    },
    "kernelspec": {
      "name": "python3",
      "display_name": "Python 3"
    },
    "language_info": {
      "name": "python"
    }
  },
  "cells": [
    {
      "cell_type": "code",
      "source": [
        "import pandas as pd\n",
        "import numpy as np\n",
        "import seaborn as sns\n",
        "import matplotlib.pyplot as plt\n",
        "import warnings\n",
        "warnings.filterwarnings('ignore')\n",
        "%matplotlib inline"
      ],
      "metadata": {
        "id": "gJ2GprGktUCU"
      },
      "execution_count": null,
      "outputs": []
    },
    {
      "cell_type": "code",
      "source": [
        "df = pd.read_csv('/creditcard.csv')\n",
        "df.head()"
      ],
      "metadata": {
        "id": "-UleAmCpxG84"
      },
      "execution_count": null,
      "outputs": []
    },
    {
      "cell_type": "code",
      "source": [
        "df.describe()\n"
      ],
      "metadata": {
        "id": "hUAah7EPxG1R"
      },
      "execution_count": null,
      "outputs": []
    },
    {
      "cell_type": "code",
      "source": [
        "df.info()\n"
      ],
      "metadata": {
        "id": "ec2NHIH8yHHW"
      },
      "execution_count": null,
      "outputs": []
    },
    {
      "cell_type": "code",
      "source": [
        "df.isnull().sum()\n"
      ],
      "metadata": {
        "id": "vVk93ax-yHA6"
      },
      "execution_count": null,
      "outputs": []
    },
    {
      "cell_type": "markdown",
      "source": [
        "DATA ANALYSIS"
      ],
      "metadata": {
        "id": "OOBvJukC0TB0"
      }
    },
    {
      "cell_type": "code",
      "source": [
        "sns.countplot(df['Class'])\n"
      ],
      "metadata": {
        "id": "EE0KycmiyGyq"
      },
      "execution_count": null,
      "outputs": []
    },
    {
      "cell_type": "code",
      "source": [
        "df_temp = df.drop(columns=['Time', 'Amount', 'Class'], axis=1)\n",
        "\n",
        "# create dist plots\n",
        "fig, ax = plt.subplots(ncols=4, nrows=7, figsize=(20, 50))\n",
        "index = 0\n",
        "ax = ax.flatten()\n",
        "\n",
        "for col in df_temp.columns:\n",
        "    sns.distplot(df_temp[col], ax=ax[index])\n",
        "    index += 1\n",
        "plt.tight_layout(pad=0.5, w_pad=0.5, h_pad=5)"
      ],
      "metadata": {
        "id": "TP--kONCyRWB"
      },
      "execution_count": null,
      "outputs": []
    },
    {
      "cell_type": "code",
      "source": [
        "sns.distplot(df['Time'])"
      ],
      "metadata": {
        "id": "VbkyFR4RyRSe"
      },
      "execution_count": null,
      "outputs": []
    },
    {
      "cell_type": "code",
      "source": [
        "sns.distplot(df['Amount'])"
      ],
      "metadata": {
        "id": "xCoIRXpeyROY"
      },
      "execution_count": null,
      "outputs": []
    },
    {
      "cell_type": "code",
      "source": [
        "corr = df.corr()\n",
        "plt.figure(figsize=(30,40))\n",
        "sns.heatmap(corr, annot=True, cmap='coolwarm')"
      ],
      "metadata": {
        "id": "E4WjpYYMyRHi"
      },
      "execution_count": null,
      "outputs": []
    },
    {
      "cell_type": "markdown",
      "source": [
        "WORKING WITH DATA(SCALING AND DROPING)"
      ],
      "metadata": {
        "id": "-xgEA7Gv0aHY"
      }
    },
    {
      "cell_type": "code",
      "source": [
        "X = df.drop(columns=['Class'], axis=1)\n",
        "y = df['Class']"
      ],
      "metadata": {
        "id": "1jUchUVWyY4R"
      },
      "execution_count": null,
      "outputs": []
    },
    {
      "cell_type": "code",
      "source": [
        " y = np.nan_to_num(y)\n",
        " X = np.nan_to_num(X)"
      ],
      "metadata": {
        "id": "K_ZpvUzt1DbP"
      },
      "execution_count": null,
      "outputs": []
    },
    {
      "cell_type": "code",
      "source": [
        "from sklearn.preprocessing import StandardScaler\n",
        "sc = StandardScaler()\n",
        "x_scaler = sc.fit_transform(X)"
      ],
      "metadata": {
        "id": "YjBFUy6ZyY02"
      },
      "execution_count": null,
      "outputs": []
    },
    {
      "cell_type": "code",
      "source": [
        "x_scaler[-1]"
      ],
      "metadata": {
        "id": "3b5dsI39ylJa"
      },
      "execution_count": null,
      "outputs": []
    },
    {
      "cell_type": "markdown",
      "source": [
        "Model Training"
      ],
      "metadata": {
        "id": "N5lr9nDB149P"
      }
    },
    {
      "cell_type": "code",
      "source": [
        "from sklearn.model_selection import train_test_split\n",
        "from sklearn.metrics import classification_report, f1_score\n",
        "x_train, x_test, y_train, y_test = train_test_split(x_scaler, y, test_size=0.25, random_state=42, stratify=y)"
      ],
      "metadata": {
        "id": "If6vtSBgylF3"
      },
      "execution_count": null,
      "outputs": []
    },
    {
      "cell_type": "code",
      "source": [
        "from sklearn.linear_model import LogisticRegression\n",
        "model = LogisticRegression()\n",
        "# training\n",
        "model.fit(x_train, y_train)\n",
        "# testing\n",
        "y_pred = model.predict(x_test)\n",
        "print(classification_report(y_test, y_pred))\n",
        "print(\"F1 Score:\",f1_score(y_test, y_pred))\n"
      ],
      "metadata": {
        "id": "AE1DNV-jylCW"
      },
      "execution_count": null,
      "outputs": []
    },
    {
      "cell_type": "code",
      "source": [
        "from sklearn.ensemble import RandomForestClassifier\n",
        "model = RandomForestClassifier()\n",
        "# training\n",
        "model.fit(x_train, y_train)\n",
        "# testing\n",
        "y_pred = model.predict(x_test)\n",
        "print(classification_report(y_test, y_pred))\n",
        "print(\"F1 Score:\",f1_score(y_test, y_pred))"
      ],
      "metadata": {
        "id": "VnwFKlotyu6f"
      },
      "execution_count": null,
      "outputs": []
    },
    {
      "cell_type": "code",
      "source": [
        "from xgboost import XGBClassifier\n",
        "model = XGBClassifier(n_jobs=-1)\n",
        "# training\n",
        "model.fit(x_train, y_train)\n",
        "# testing\n",
        "y_pred = model.predict(x_test)\n",
        "print(classification_report(y_test, y_pred))\n",
        "print(\"F1 Score:\",f1_score(y_test, y_pred))"
      ],
      "metadata": {
        "id": "KxAUlvJ4yu3H"
      },
      "execution_count": null,
      "outputs": []
    },
    {
      "cell_type": "code",
      "source": [
        "sns.countplot(y_train)"
      ],
      "metadata": {
        "id": "xOUSnaxTyuzw"
      },
      "execution_count": null,
      "outputs": []
    },
    {
      "cell_type": "code",
      "source": [
        "from imblearn.over_sampling import SMOTE\n",
        "over_sample = SMOTE()\n",
        "x_smote, y_smote = over_sample.fit_resample(x_train, y_train)"
      ],
      "metadata": {
        "id": "4mXIg42Syuv-"
      },
      "execution_count": null,
      "outputs": []
    },
    {
      "cell_type": "code",
      "source": [
        "sns.countplot(y_smote)"
      ],
      "metadata": {
        "id": "PJHPFX4hy5yQ"
      },
      "execution_count": null,
      "outputs": []
    },
    {
      "cell_type": "code",
      "source": [
        "from sklearn.linear_model import LogisticRegression\n",
        "model = LogisticRegression()\n",
        "# training\n",
        "model.fit(x_smote, y_smote)\n",
        "# testing\n",
        "y_pred = model.predict(x_test)\n",
        "print(classification_report(y_test, y_pred))\n",
        "print(\"F1 Score:\",f1_score(y_test, y_pred))"
      ],
      "metadata": {
        "id": "q_163YaQy5vF"
      },
      "execution_count": null,
      "outputs": []
    },
    {
      "cell_type": "code",
      "source": [
        "from sklearn.ensemble import RandomForestClassifier\n",
        "model = RandomForestClassifier(n_jobs=-1)\n",
        "# training\n",
        "model.fit(x_smote, y_smote)\n",
        "# testing\n",
        "y_pred = model.predict(x_test)\n",
        "print(classification_report(y_test, y_pred))\n",
        "print(\"F1 Score:\",f1_score(y_test, y_pred))"
      ],
      "metadata": {
        "id": "7Yd-c-AQy5sO"
      },
      "execution_count": null,
      "outputs": []
    },
    {
      "cell_type": "code",
      "source": [
        "from xgboost import XGBClassifier\n",
        "model = XGBClassifier(n_jobs=-1)\n",
        "# training\n",
        "model.fit(x_smote, y_smote)\n",
        "# testing\n",
        "y_pred = model.predict(x_test)\n",
        "print(classification_report(y_test, y_pred))\n",
        "print(\"F1 Score:\",f1_score(y_test, y_pred))"
      ],
      "metadata": {
        "id": "OIcbw55Ry_kL"
      },
      "execution_count": null,
      "outputs": []
    },
    {
      "cell_type": "code",
      "source": [],
      "metadata": {
        "id": "SfijQyhcy_go"
      },
      "execution_count": null,
      "outputs": []
    },
    {
      "cell_type": "code",
      "source": [],
      "metadata": {
        "id": "3fcAR1i7y_eg"
      },
      "execution_count": null,
      "outputs": []
    }
  ]
}